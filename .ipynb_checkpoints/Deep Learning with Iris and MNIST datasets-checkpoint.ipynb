{
 "cells": [
  {
   "cell_type": "code",
   "execution_count": null,
   "metadata": {},
   "outputs": [],
   "source": [
    "!pip install tensorflow"
   ]
  },
  {
   "cell_type": "code",
   "execution_count": 1,
   "metadata": {},
   "outputs": [
    {
     "ename": "ModuleNotFoundError",
     "evalue": "No module named 'tensorflow'",
     "output_type": "error",
     "traceback": [
      "\u001b[1;31m---------------------------------------------------------------------------\u001b[0m",
      "\u001b[1;31mModuleNotFoundError\u001b[0m                       Traceback (most recent call last)",
      "\u001b[1;32m<ipython-input-1-82dacde87f89>\u001b[0m in \u001b[0;36m<module>\u001b[1;34m\u001b[0m\n\u001b[0;32m      7\u001b[0m \u001b[1;32mfrom\u001b[0m \u001b[0msklearn\u001b[0m\u001b[1;33m.\u001b[0m\u001b[0mpreprocessing\u001b[0m \u001b[1;32mimport\u001b[0m \u001b[0mLabelEncoder\u001b[0m\u001b[1;33m,\u001b[0m \u001b[0mStandardScaler\u001b[0m\u001b[1;33m\u001b[0m\u001b[1;33m\u001b[0m\u001b[0m\n\u001b[0;32m      8\u001b[0m \u001b[1;33m\u001b[0m\u001b[0m\n\u001b[1;32m----> 9\u001b[1;33m \u001b[1;32mimport\u001b[0m \u001b[0mtensorflow\u001b[0m \u001b[1;32mas\u001b[0m \u001b[0mtf\u001b[0m\u001b[1;33m\u001b[0m\u001b[1;33m\u001b[0m\u001b[0m\n\u001b[0m\u001b[0;32m     10\u001b[0m \u001b[1;32mfrom\u001b[0m \u001b[0mtensorflow\u001b[0m\u001b[1;33m.\u001b[0m\u001b[0mkeras\u001b[0m \u001b[1;32mimport\u001b[0m \u001b[0mSequential\u001b[0m\u001b[1;33m\u001b[0m\u001b[1;33m\u001b[0m\u001b[0m\n\u001b[0;32m     11\u001b[0m \u001b[1;32mfrom\u001b[0m \u001b[0mtensorflow\u001b[0m\u001b[1;33m.\u001b[0m\u001b[0mkeras\u001b[0m\u001b[1;33m.\u001b[0m\u001b[0mlayers\u001b[0m \u001b[1;32mimport\u001b[0m \u001b[0mDense\u001b[0m\u001b[1;33m\u001b[0m\u001b[1;33m\u001b[0m\u001b[0m\n",
      "\u001b[1;31mModuleNotFoundError\u001b[0m: No module named 'tensorflow'"
     ]
    }
   ],
   "source": [
    "import pandas as pd\n",
    "import numpy as np\n",
    "import matplotlib.pyplot as plt\n",
    "\n",
    "\n",
    "from sklearn.model_selection import train_test_split\n",
    "from sklearn.preprocessing import LabelEncoder, StandardScaler\n",
    "\n",
    "import tensorflow as tf\n",
    "from tensorflow.keras import Sequential\n",
    "from tensorflow.keras.layers import Dense\n",
    "\n",
    "from tensorflow.keras.layers import Conv2D\n",
    "from tensorflow.keras.layers import MaxPool2D\n",
    "from tensorflow.keras.layers import Flatten\n",
    "from tensorflow.keras.layers import Dropout\n",
    "\n",
    "from tensorflow.keras.datasets import mnist"
   ]
  },
  {
   "cell_type": "markdown",
   "metadata": {},
   "source": [
    "# Basic Deep Learning Model: TensorFlow, Keras, Sequential model. Iris Dataset. In general, perform the following tasks:Define, Compile, Fit, and Evaluate the model then use the model to make predictions."
   ]
  },
  {
   "cell_type": "code",
   "execution_count": 2,
   "metadata": {},
   "outputs": [
    {
     "name": "stdout",
     "output_type": "stream",
     "text": [
      "2.7.0\n"
     ]
    }
   ],
   "source": [
    "#check version\n",
    "print(tf.__version__)"
   ]
  },
  {
   "cell_type": "code",
   "execution_count": 3,
   "metadata": {},
   "outputs": [],
   "source": [
    "#Read the data\n",
    "iris=pd.read_csv('datasets/iris_dataset.csv')"
   ]
  },
  {
   "cell_type": "code",
   "execution_count": 4,
   "metadata": {},
   "outputs": [
    {
     "data": {
      "text/plain": [
       "(150, 5)"
      ]
     },
     "execution_count": 4,
     "metadata": {},
     "output_type": "execute_result"
    }
   ],
   "source": [
    "iris.shape"
   ]
  },
  {
   "cell_type": "code",
   "execution_count": 5,
   "metadata": {},
   "outputs": [],
   "source": [
    "X=iris.values[:,:-1]\n",
    "y=iris.values[:,-1]"
   ]
  },
  {
   "cell_type": "code",
   "execution_count": 7,
   "metadata": {},
   "outputs": [
    {
     "data": {
      "text/plain": [
       "numpy.ndarray"
      ]
     },
     "execution_count": 7,
     "metadata": {},
     "output_type": "execute_result"
    }
   ],
   "source": [
    "type(X)"
   ]
  },
  {
   "cell_type": "code",
   "execution_count": 6,
   "metadata": {},
   "outputs": [],
   "source": [
    "X=X.astype('float32')"
   ]
  },
  {
   "cell_type": "code",
   "execution_count": 8,
   "metadata": {},
   "outputs": [],
   "source": [
    "#convert categorical to int\n",
    "encoder=LabelEncoder()\n",
    "y=encoder.fit_transform(y)"
   ]
  },
  {
   "cell_type": "code",
   "execution_count": 9,
   "metadata": {},
   "outputs": [],
   "source": [
    "#Get train test data\n",
    "X_train, X_test, y_train, y_test=train_test_split(X,y,test_size=0.3)"
   ]
  },
  {
   "cell_type": "code",
   "execution_count": 10,
   "metadata": {},
   "outputs": [
    {
     "data": {
      "text/plain": [
       "((105, 4), (45, 4), (105,), (45,))"
      ]
     },
     "execution_count": 10,
     "metadata": {},
     "output_type": "execute_result"
    }
   ],
   "source": [
    "(X_train.shape,X_test.shape, y_train.shape, y_test.shape)"
   ]
  },
  {
   "cell_type": "code",
   "execution_count": 11,
   "metadata": {},
   "outputs": [
    {
     "data": {
      "text/plain": [
       "4"
      ]
     },
     "execution_count": 11,
     "metadata": {},
     "output_type": "execute_result"
    }
   ],
   "source": [
    "#How many input features\n",
    "num_features=X_train.shape[1]\n",
    "num_features"
   ]
  },
  {
   "cell_type": "code",
   "execution_count": 12,
   "metadata": {},
   "outputs": [],
   "source": [
    "#Scale the data\n",
    "scaler=StandardScaler()\n",
    "X_train=scaler.fit_transform(X_train)\n",
    "X_test=scaler.transform(X_test)"
   ]
  },
  {
   "cell_type": "code",
   "execution_count": 13,
   "metadata": {},
   "outputs": [
    {
     "data": {
      "text/plain": [
       "array([[-0.2306022 , -0.51595956,  0.3549696 ,  0.05925331],\n",
       "       [ 1.1283027 ,  0.38322306,  1.180611  ,  1.4117758 ]],\n",
       "      dtype=float32)"
      ]
     },
     "execution_count": 13,
     "metadata": {},
     "output_type": "execute_result"
    }
   ],
   "source": [
    "X_train[:2]"
   ]
  },
  {
   "cell_type": "code",
   "execution_count": 14,
   "metadata": {},
   "outputs": [
    {
     "data": {
      "text/plain": [
       "array([[-0.84828603,  0.83281434, -1.4732362 , -1.4285213 ],\n",
       "       [ 1.0047655 , -1.1903461 ,  1.1216366 ,  0.7355145 ]],\n",
       "      dtype=float32)"
      ]
     },
     "execution_count": 14,
     "metadata": {},
     "output_type": "execute_result"
    }
   ],
   "source": [
    "X_test[:2]"
   ]
  },
  {
   "cell_type": "markdown",
   "metadata": {},
   "source": [
    "# Build Sequential model. Adds layers in a linear manner"
   ]
  },
  {
   "cell_type": "code",
   "execution_count": 15,
   "metadata": {},
   "outputs": [],
   "source": [
    "#Create the model and add layers-Step 1\n",
    "#activations:['relu','softmax','sigmoid', 'tanh','etc.']\n",
    "#kernel_initializers:['uniform','normal','he_normal','he_uniform', 'etc.']\n",
    "def createDLModel():\n",
    "    model=Sequential() #defines sequential model to which we add layers\n",
    "    model.add(Dense(units=20, activation='relu', kernel_initializer='uniform', input_shape=(num_features,))) #adds a layer---fully connected\n",
    "    model.add(Dense(units=16,activation='relu',kernel_initializer='uniform'))\n",
    "    model.add(Dense(units=8,activation='relu',kernel_initializer='uniform'))\n",
    "    model.add(Dense(units=3,activation='softmax'))\n",
    "    return model"
   ]
  },
  {
   "cell_type": "code",
   "execution_count": 17,
   "metadata": {},
   "outputs": [],
   "source": [
    "#set up model\n",
    "model=createDLModel()"
   ]
  },
  {
   "cell_type": "code",
   "execution_count": 18,
   "metadata": {},
   "outputs": [],
   "source": [
    "#compile the model- Step 2\n",
    "#Select the loss function to optimize (e.g. MSE, cross entropy, etc) and the optimizer (e.g. adam, nadam, etc)\n",
    "#e.g. 'binary_crossentropy' for binary classification, 'mse' (mean squared error) for regression, \n",
    "#and'sparse_categorical_crossentropy' for multi-class classification.\n",
    "#Also includes setting the list of metrics\n",
    "\n",
    "#optimizers:['adam','nadam','SGD','Adamax','etc.']\n",
    "\n",
    "model.compile(optimizer='adam', loss='sparse_categorical_crossentropy', metrics=['accuracy']) \n",
    "#1- loss: sparse_categorical_crossentropy for integer form targets\n",
    "#2- optitimizer: optimization algorithm for stochastic gradient descent for training deep learning models."
   ]
  },
  {
   "cell_type": "code",
   "execution_count": 20,
   "metadata": {},
   "outputs": [
    {
     "name": "stdout",
     "output_type": "stream",
     "text": [
      "Epoch 1/150\n",
      "7/7 - 0s - loss: 1.0081 - accuracy: 0.3524 - 26ms/epoch - 4ms/step\n",
      "Epoch 2/150\n",
      "7/7 - 0s - loss: 0.9805 - accuracy: 0.3524 - 47ms/epoch - 7ms/step\n",
      "Epoch 3/150\n",
      "7/7 - 0s - loss: 0.9516 - accuracy: 0.3524 - 29ms/epoch - 4ms/step\n",
      "Epoch 4/150\n",
      "7/7 - 0s - loss: 0.9223 - accuracy: 0.3524 - 30ms/epoch - 4ms/step\n",
      "Epoch 5/150\n",
      "7/7 - 0s - loss: 0.8964 - accuracy: 0.3524 - 33ms/epoch - 5ms/step\n",
      "Epoch 6/150\n",
      "7/7 - 0s - loss: 0.8692 - accuracy: 0.3714 - 37ms/epoch - 5ms/step\n",
      "Epoch 7/150\n",
      "7/7 - 0s - loss: 0.8491 - accuracy: 0.3810 - 36ms/epoch - 5ms/step\n",
      "Epoch 8/150\n",
      "7/7 - 0s - loss: 0.8293 - accuracy: 0.3810 - 43ms/epoch - 6ms/step\n",
      "Epoch 9/150\n",
      "7/7 - 0s - loss: 0.8105 - accuracy: 0.5524 - 38ms/epoch - 5ms/step\n",
      "Epoch 10/150\n",
      "7/7 - 0s - loss: 0.7915 - accuracy: 0.7143 - 41ms/epoch - 6ms/step\n",
      "Epoch 11/150\n",
      "7/7 - 0s - loss: 0.7710 - accuracy: 0.7143 - 34ms/epoch - 5ms/step\n",
      "Epoch 12/150\n",
      "7/7 - 0s - loss: 0.7489 - accuracy: 0.7333 - 39ms/epoch - 6ms/step\n",
      "Epoch 13/150\n",
      "7/7 - 0s - loss: 0.7276 - accuracy: 0.7619 - 40ms/epoch - 6ms/step\n",
      "Epoch 14/150\n",
      "7/7 - 0s - loss: 0.7008 - accuracy: 0.7714 - 49ms/epoch - 7ms/step\n",
      "Epoch 15/150\n",
      "7/7 - 0s - loss: 0.6736 - accuracy: 0.7810 - 58ms/epoch - 8ms/step\n",
      "Epoch 16/150\n",
      "7/7 - 0s - loss: 0.6437 - accuracy: 0.7905 - 42ms/epoch - 6ms/step\n",
      "Epoch 17/150\n",
      "7/7 - 0s - loss: 0.6108 - accuracy: 0.8476 - 51ms/epoch - 7ms/step\n",
      "Epoch 18/150\n",
      "7/7 - 0s - loss: 0.5758 - accuracy: 0.8857 - 68ms/epoch - 10ms/step\n",
      "Epoch 19/150\n",
      "7/7 - 0s - loss: 0.5375 - accuracy: 0.8952 - 46ms/epoch - 7ms/step\n",
      "Epoch 20/150\n",
      "7/7 - 0s - loss: 0.4986 - accuracy: 0.9143 - 50ms/epoch - 7ms/step\n",
      "Epoch 21/150\n",
      "7/7 - 0s - loss: 0.4614 - accuracy: 0.9238 - 48ms/epoch - 7ms/step\n",
      "Epoch 22/150\n",
      "7/7 - 0s - loss: 0.4211 - accuracy: 0.9238 - 61ms/epoch - 9ms/step\n",
      "Epoch 23/150\n",
      "7/7 - 0s - loss: 0.3841 - accuracy: 0.9238 - 53ms/epoch - 8ms/step\n",
      "Epoch 24/150\n",
      "7/7 - 0s - loss: 0.3470 - accuracy: 0.9333 - 42ms/epoch - 6ms/step\n",
      "Epoch 25/150\n",
      "7/7 - 0s - loss: 0.3139 - accuracy: 0.9619 - 43ms/epoch - 6ms/step\n",
      "Epoch 26/150\n",
      "7/7 - 0s - loss: 0.2833 - accuracy: 0.9619 - 39ms/epoch - 6ms/step\n",
      "Epoch 27/150\n",
      "7/7 - 0s - loss: 0.2553 - accuracy: 0.9619 - 14ms/epoch - 2ms/step\n",
      "Epoch 28/150\n",
      "7/7 - 0s - loss: 0.2293 - accuracy: 0.9619 - 51ms/epoch - 7ms/step\n",
      "Epoch 29/150\n",
      "7/7 - 0s - loss: 0.2059 - accuracy: 0.9714 - 41ms/epoch - 6ms/step\n",
      "Epoch 30/150\n",
      "7/7 - 0s - loss: 0.1856 - accuracy: 0.9714 - 37ms/epoch - 5ms/step\n",
      "Epoch 31/150\n",
      "7/7 - 0s - loss: 0.1699 - accuracy: 0.9714 - 23ms/epoch - 3ms/step\n",
      "Epoch 32/150\n",
      "7/7 - 0s - loss: 0.1537 - accuracy: 0.9714 - 39ms/epoch - 6ms/step\n",
      "Epoch 33/150\n",
      "7/7 - 0s - loss: 0.1407 - accuracy: 0.9714 - 40ms/epoch - 6ms/step\n",
      "Epoch 34/150\n",
      "7/7 - 0s - loss: 0.1327 - accuracy: 0.9714 - 39ms/epoch - 6ms/step\n",
      "Epoch 35/150\n",
      "7/7 - 0s - loss: 0.1211 - accuracy: 0.9619 - 59ms/epoch - 8ms/step\n",
      "Epoch 36/150\n",
      "7/7 - 0s - loss: 0.1134 - accuracy: 0.9619 - 38ms/epoch - 5ms/step\n",
      "Epoch 37/150\n",
      "7/7 - 0s - loss: 0.1084 - accuracy: 0.9619 - 51ms/epoch - 7ms/step\n",
      "Epoch 38/150\n",
      "7/7 - 0s - loss: 0.1020 - accuracy: 0.9619 - 30ms/epoch - 4ms/step\n",
      "Epoch 39/150\n",
      "7/7 - 0s - loss: 0.0976 - accuracy: 0.9619 - 43ms/epoch - 6ms/step\n",
      "Epoch 40/150\n",
      "7/7 - 0s - loss: 0.0911 - accuracy: 0.9619 - 39ms/epoch - 6ms/step\n",
      "Epoch 41/150\n",
      "7/7 - 0s - loss: 0.0880 - accuracy: 0.9619 - 31ms/epoch - 4ms/step\n",
      "Epoch 42/150\n",
      "7/7 - 0s - loss: 0.0863 - accuracy: 0.9619 - 26ms/epoch - 4ms/step\n",
      "Epoch 43/150\n",
      "7/7 - 0s - loss: 0.0820 - accuracy: 0.9619 - 61ms/epoch - 9ms/step\n",
      "Epoch 44/150\n",
      "7/7 - 0s - loss: 0.0788 - accuracy: 0.9619 - 34ms/epoch - 5ms/step\n",
      "Epoch 45/150\n",
      "7/7 - 0s - loss: 0.0768 - accuracy: 0.9714 - 50ms/epoch - 7ms/step\n",
      "Epoch 46/150\n",
      "7/7 - 0s - loss: 0.0757 - accuracy: 0.9714 - 30ms/epoch - 4ms/step\n",
      "Epoch 47/150\n",
      "7/7 - 0s - loss: 0.0726 - accuracy: 0.9714 - 53ms/epoch - 8ms/step\n",
      "Epoch 48/150\n",
      "7/7 - 0s - loss: 0.0712 - accuracy: 0.9619 - 42ms/epoch - 6ms/step\n",
      "Epoch 49/150\n",
      "7/7 - 0s - loss: 0.0707 - accuracy: 0.9619 - 51ms/epoch - 7ms/step\n",
      "Epoch 50/150\n",
      "7/7 - 0s - loss: 0.0692 - accuracy: 0.9714 - 64ms/epoch - 9ms/step\n",
      "Epoch 51/150\n",
      "7/7 - 0s - loss: 0.0668 - accuracy: 0.9714 - 56ms/epoch - 8ms/step\n",
      "Epoch 52/150\n",
      "7/7 - 0s - loss: 0.0658 - accuracy: 0.9714 - 36ms/epoch - 5ms/step\n",
      "Epoch 53/150\n",
      "7/7 - 0s - loss: 0.0649 - accuracy: 0.9619 - 35ms/epoch - 5ms/step\n",
      "Epoch 54/150\n",
      "7/7 - 0s - loss: 0.0634 - accuracy: 0.9714 - 39ms/epoch - 6ms/step\n",
      "Epoch 55/150\n",
      "7/7 - 0s - loss: 0.0662 - accuracy: 0.9714 - 30ms/epoch - 4ms/step\n",
      "Epoch 56/150\n",
      "7/7 - 0s - loss: 0.0640 - accuracy: 0.9810 - 37ms/epoch - 5ms/step\n",
      "Epoch 57/150\n",
      "7/7 - 0s - loss: 0.0652 - accuracy: 0.9619 - 41ms/epoch - 6ms/step\n",
      "Epoch 58/150\n",
      "7/7 - 0s - loss: 0.0620 - accuracy: 0.9619 - 40ms/epoch - 6ms/step\n",
      "Epoch 59/150\n",
      "7/7 - 0s - loss: 0.0594 - accuracy: 0.9714 - 39ms/epoch - 6ms/step\n",
      "Epoch 60/150\n",
      "7/7 - 0s - loss: 0.0597 - accuracy: 0.9714 - 21ms/epoch - 3ms/step\n",
      "Epoch 61/150\n",
      "7/7 - 0s - loss: 0.0640 - accuracy: 0.9714 - 35ms/epoch - 5ms/step\n",
      "Epoch 62/150\n",
      "7/7 - 0s - loss: 0.0622 - accuracy: 0.9714 - 41ms/epoch - 6ms/step\n",
      "Epoch 63/150\n",
      "7/7 - 0s - loss: 0.0579 - accuracy: 0.9714 - 25ms/epoch - 4ms/step\n",
      "Epoch 64/150\n",
      "7/7 - 0s - loss: 0.0597 - accuracy: 0.9714 - 51ms/epoch - 7ms/step\n",
      "Epoch 65/150\n",
      "7/7 - 0s - loss: 0.0583 - accuracy: 0.9714 - 35ms/epoch - 5ms/step\n",
      "Epoch 66/150\n",
      "7/7 - 0s - loss: 0.0584 - accuracy: 0.9714 - 33ms/epoch - 5ms/step\n",
      "Epoch 67/150\n",
      "7/7 - 0s - loss: 0.0560 - accuracy: 0.9714 - 29ms/epoch - 4ms/step\n",
      "Epoch 68/150\n",
      "7/7 - 0s - loss: 0.0554 - accuracy: 0.9810 - 37ms/epoch - 5ms/step\n",
      "Epoch 69/150\n",
      "7/7 - 0s - loss: 0.0573 - accuracy: 0.9810 - 39ms/epoch - 6ms/step\n",
      "Epoch 70/150\n",
      "7/7 - 0s - loss: 0.0547 - accuracy: 0.9714 - 36ms/epoch - 5ms/step\n",
      "Epoch 71/150\n",
      "7/7 - 0s - loss: 0.0557 - accuracy: 0.9714 - 27ms/epoch - 4ms/step\n",
      "Epoch 72/150\n",
      "7/7 - 0s - loss: 0.0548 - accuracy: 0.9714 - 34ms/epoch - 5ms/step\n",
      "Epoch 73/150\n",
      "7/7 - 0s - loss: 0.0540 - accuracy: 0.9714 - 37ms/epoch - 5ms/step\n",
      "Epoch 74/150\n",
      "7/7 - 0s - loss: 0.0545 - accuracy: 0.9810 - 34ms/epoch - 5ms/step\n",
      "Epoch 75/150\n",
      "7/7 - 0s - loss: 0.0535 - accuracy: 0.9810 - 50ms/epoch - 7ms/step\n",
      "Epoch 76/150\n",
      "7/7 - 0s - loss: 0.0538 - accuracy: 0.9714 - 34ms/epoch - 5ms/step\n",
      "Epoch 77/150\n",
      "7/7 - 0s - loss: 0.0533 - accuracy: 0.9714 - 41ms/epoch - 6ms/step\n",
      "Epoch 78/150\n",
      "7/7 - 0s - loss: 0.0532 - accuracy: 0.9714 - 40ms/epoch - 6ms/step\n",
      "Epoch 79/150\n",
      "7/7 - 0s - loss: 0.0535 - accuracy: 0.9714 - 37ms/epoch - 5ms/step\n",
      "Epoch 80/150\n",
      "7/7 - 0s - loss: 0.0522 - accuracy: 0.9714 - 43ms/epoch - 6ms/step\n",
      "Epoch 81/150\n",
      "7/7 - 0s - loss: 0.0526 - accuracy: 0.9810 - 38ms/epoch - 5ms/step\n",
      "Epoch 82/150\n",
      "7/7 - 0s - loss: 0.0527 - accuracy: 0.9810 - 35ms/epoch - 5ms/step\n",
      "Epoch 83/150\n",
      "7/7 - 0s - loss: 0.0512 - accuracy: 0.9810 - 46ms/epoch - 7ms/step\n",
      "Epoch 84/150\n",
      "7/7 - 0s - loss: 0.0511 - accuracy: 0.9810 - 62ms/epoch - 9ms/step\n",
      "Epoch 85/150\n",
      "7/7 - 0s - loss: 0.0524 - accuracy: 0.9810 - 52ms/epoch - 7ms/step\n",
      "Epoch 86/150\n",
      "7/7 - 0s - loss: 0.0511 - accuracy: 0.9714 - 34ms/epoch - 5ms/step\n",
      "Epoch 87/150\n",
      "7/7 - 0s - loss: 0.0513 - accuracy: 0.9714 - 44ms/epoch - 6ms/step\n",
      "Epoch 88/150\n",
      "7/7 - 0s - loss: 0.0526 - accuracy: 0.9810 - 35ms/epoch - 5ms/step\n",
      "Epoch 89/150\n",
      "7/7 - 0s - loss: 0.0517 - accuracy: 0.9810 - 34ms/epoch - 5ms/step\n",
      "Epoch 90/150\n",
      "7/7 - 0s - loss: 0.0507 - accuracy: 0.9810 - 30ms/epoch - 4ms/step\n",
      "Epoch 91/150\n",
      "7/7 - 0s - loss: 0.0506 - accuracy: 0.9810 - 26ms/epoch - 4ms/step\n",
      "Epoch 92/150\n",
      "7/7 - 0s - loss: 0.0504 - accuracy: 0.9810 - 25ms/epoch - 4ms/step\n",
      "Epoch 93/150\n",
      "7/7 - 0s - loss: 0.0510 - accuracy: 0.9714 - 26ms/epoch - 4ms/step\n",
      "Epoch 94/150\n",
      "7/7 - 0s - loss: 0.0508 - accuracy: 0.9810 - 24ms/epoch - 3ms/step\n",
      "Epoch 95/150\n",
      "7/7 - 0s - loss: 0.0507 - accuracy: 0.9810 - 39ms/epoch - 6ms/step\n",
      "Epoch 96/150\n",
      "7/7 - 0s - loss: 0.0501 - accuracy: 0.9810 - 23ms/epoch - 3ms/step\n",
      "Epoch 97/150\n",
      "7/7 - 0s - loss: 0.0495 - accuracy: 0.9810 - 34ms/epoch - 5ms/step\n",
      "Epoch 98/150\n",
      "7/7 - 0s - loss: 0.0493 - accuracy: 0.9810 - 51ms/epoch - 7ms/step\n",
      "Epoch 99/150\n",
      "7/7 - 0s - loss: 0.0496 - accuracy: 0.9810 - 62ms/epoch - 9ms/step\n",
      "Epoch 100/150\n",
      "7/7 - 0s - loss: 0.0493 - accuracy: 0.9810 - 55ms/epoch - 8ms/step\n",
      "Epoch 101/150\n",
      "7/7 - 0s - loss: 0.0495 - accuracy: 0.9810 - 45ms/epoch - 6ms/step\n",
      "Epoch 102/150\n",
      "7/7 - 0s - loss: 0.0499 - accuracy: 0.9810 - 77ms/epoch - 11ms/step\n",
      "Epoch 103/150\n",
      "7/7 - 0s - loss: 0.0489 - accuracy: 0.9810 - 36ms/epoch - 5ms/step\n"
     ]
    },
    {
     "name": "stdout",
     "output_type": "stream",
     "text": [
      "Epoch 104/150\n",
      "7/7 - 0s - loss: 0.0489 - accuracy: 0.9810 - 34ms/epoch - 5ms/step\n",
      "Epoch 105/150\n",
      "7/7 - 0s - loss: 0.0495 - accuracy: 0.9810 - 29ms/epoch - 4ms/step\n",
      "Epoch 106/150\n",
      "7/7 - 0s - loss: 0.0498 - accuracy: 0.9810 - 25ms/epoch - 4ms/step\n",
      "Epoch 107/150\n",
      "7/7 - 0s - loss: 0.0486 - accuracy: 0.9810 - 31ms/epoch - 4ms/step\n",
      "Epoch 108/150\n",
      "7/7 - 0s - loss: 0.0488 - accuracy: 0.9810 - 40ms/epoch - 6ms/step\n",
      "Epoch 109/150\n",
      "7/7 - 0s - loss: 0.0504 - accuracy: 0.9810 - 40ms/epoch - 6ms/step\n",
      "Epoch 110/150\n",
      "7/7 - 0s - loss: 0.0485 - accuracy: 0.9810 - 31ms/epoch - 4ms/step\n",
      "Epoch 111/150\n",
      "7/7 - 0s - loss: 0.0488 - accuracy: 0.9810 - 23ms/epoch - 3ms/step\n",
      "Epoch 112/150\n",
      "7/7 - 0s - loss: 0.0490 - accuracy: 0.9810 - 34ms/epoch - 5ms/step\n",
      "Epoch 113/150\n",
      "7/7 - 0s - loss: 0.0494 - accuracy: 0.9810 - 30ms/epoch - 4ms/step\n",
      "Epoch 114/150\n",
      "7/7 - 0s - loss: 0.0486 - accuracy: 0.9810 - 18ms/epoch - 3ms/step\n",
      "Epoch 115/150\n",
      "7/7 - 0s - loss: 0.0492 - accuracy: 0.9810 - 19ms/epoch - 3ms/step\n",
      "Epoch 116/150\n",
      "7/7 - 0s - loss: 0.0481 - accuracy: 0.9810 - 24ms/epoch - 3ms/step\n",
      "Epoch 117/150\n",
      "7/7 - 0s - loss: 0.0478 - accuracy: 0.9810 - 13ms/epoch - 2ms/step\n",
      "Epoch 118/150\n",
      "7/7 - 0s - loss: 0.0480 - accuracy: 0.9810 - 19ms/epoch - 3ms/step\n",
      "Epoch 119/150\n",
      "7/7 - 0s - loss: 0.0480 - accuracy: 0.9810 - 26ms/epoch - 4ms/step\n",
      "Epoch 120/150\n",
      "7/7 - 0s - loss: 0.0472 - accuracy: 0.9810 - 15ms/epoch - 2ms/step\n",
      "Epoch 121/150\n",
      "7/7 - 0s - loss: 0.0482 - accuracy: 0.9810 - 35ms/epoch - 5ms/step\n",
      "Epoch 122/150\n",
      "7/7 - 0s - loss: 0.0506 - accuracy: 0.9810 - 41ms/epoch - 6ms/step\n",
      "Epoch 123/150\n",
      "7/7 - 0s - loss: 0.0493 - accuracy: 0.9810 - 26ms/epoch - 4ms/step\n",
      "Epoch 124/150\n",
      "7/7 - 0s - loss: 0.0482 - accuracy: 0.9810 - 25ms/epoch - 4ms/step\n",
      "Epoch 125/150\n",
      "7/7 - 0s - loss: 0.0478 - accuracy: 0.9810 - 29ms/epoch - 4ms/step\n",
      "Epoch 126/150\n",
      "7/7 - 0s - loss: 0.0481 - accuracy: 0.9810 - 14ms/epoch - 2ms/step\n",
      "Epoch 127/150\n",
      "7/7 - 0s - loss: 0.0488 - accuracy: 0.9810 - 15ms/epoch - 2ms/step\n",
      "Epoch 128/150\n",
      "7/7 - 0s - loss: 0.0483 - accuracy: 0.9810 - 13ms/epoch - 2ms/step\n",
      "Epoch 129/150\n",
      "7/7 - 0s - loss: 0.0488 - accuracy: 0.9810 - 16ms/epoch - 2ms/step\n",
      "Epoch 130/150\n",
      "7/7 - 0s - loss: 0.0489 - accuracy: 0.9810 - 36ms/epoch - 5ms/step\n",
      "Epoch 131/150\n",
      "7/7 - 0s - loss: 0.0474 - accuracy: 0.9810 - 26ms/epoch - 4ms/step\n",
      "Epoch 132/150\n",
      "7/7 - 0s - loss: 0.0471 - accuracy: 0.9810 - 31ms/epoch - 4ms/step\n",
      "Epoch 133/150\n",
      "7/7 - 0s - loss: 0.0467 - accuracy: 0.9810 - 27ms/epoch - 4ms/step\n",
      "Epoch 134/150\n",
      "7/7 - 0s - loss: 0.0476 - accuracy: 0.9810 - 23ms/epoch - 3ms/step\n",
      "Epoch 135/150\n",
      "7/7 - 0s - loss: 0.0471 - accuracy: 0.9810 - 27ms/epoch - 4ms/step\n",
      "Epoch 136/150\n",
      "7/7 - 0s - loss: 0.0470 - accuracy: 0.9810 - 24ms/epoch - 3ms/step\n",
      "Epoch 137/150\n",
      "7/7 - 0s - loss: 0.0466 - accuracy: 0.9810 - 41ms/epoch - 6ms/step\n",
      "Epoch 138/150\n",
      "7/7 - 0s - loss: 0.0510 - accuracy: 0.9810 - 28ms/epoch - 4ms/step\n",
      "Epoch 139/150\n",
      "7/7 - 0s - loss: 0.0504 - accuracy: 0.9810 - 20ms/epoch - 3ms/step\n",
      "Epoch 140/150\n",
      "7/7 - 0s - loss: 0.0467 - accuracy: 0.9810 - 42ms/epoch - 6ms/step\n",
      "Epoch 141/150\n",
      "7/7 - 0s - loss: 0.0484 - accuracy: 0.9810 - 29ms/epoch - 4ms/step\n",
      "Epoch 142/150\n",
      "7/7 - 0s - loss: 0.0469 - accuracy: 0.9810 - 19ms/epoch - 3ms/step\n",
      "Epoch 143/150\n",
      "7/7 - 0s - loss: 0.0477 - accuracy: 0.9810 - 31ms/epoch - 4ms/step\n",
      "Epoch 144/150\n",
      "7/7 - 0s - loss: 0.0472 - accuracy: 0.9810 - 17ms/epoch - 2ms/step\n",
      "Epoch 145/150\n",
      "7/7 - 0s - loss: 0.0477 - accuracy: 0.9810 - 15ms/epoch - 2ms/step\n",
      "Epoch 146/150\n",
      "7/7 - 0s - loss: 0.0461 - accuracy: 0.9810 - 18ms/epoch - 3ms/step\n",
      "Epoch 147/150\n",
      "7/7 - 0s - loss: 0.0474 - accuracy: 0.9810 - 16ms/epoch - 2ms/step\n",
      "Epoch 148/150\n",
      "7/7 - 0s - loss: 0.0467 - accuracy: 0.9810 - 12ms/epoch - 2ms/step\n",
      "Epoch 149/150\n",
      "7/7 - 0s - loss: 0.0478 - accuracy: 0.9810 - 18ms/epoch - 3ms/step\n",
      "Epoch 150/150\n",
      "7/7 - 0s - loss: 0.0462 - accuracy: 0.9810 - 11ms/epoch - 2ms/step\n"
     ]
    },
    {
     "data": {
      "text/plain": [
       "<keras.callbacks.History at 0x1ef6e4cdf70>"
      ]
     },
     "execution_count": 20,
     "metadata": {},
     "output_type": "execute_result"
    }
   ],
   "source": [
    "#Fit the model- Step 3\n",
    "#verbose 2 means it displays progress. verbose 0 disables display of progress.\n",
    "#batch_size - no=umber of samples\n",
    "model.fit(X_train,y_train,epochs=150, \n",
    "          batch_size=15, verbose=2) "
   ]
  },
  {
   "cell_type": "code",
   "execution_count": 22,
   "metadata": {},
   "outputs": [
    {
     "name": "stdout",
     "output_type": "stream",
     "text": [
      "Accuracy: 0.978\n",
      "Loss: 0.044\n"
     ]
    }
   ],
   "source": [
    "#Evaluate the model-Step 4\n",
    "loss, acc=model.evaluate(X_test,y_test,verbose=0)\n",
    "print(f\"Accuracy: {acc:.3f}\")\n",
    "print(f\"Loss: {loss:.3f}\")"
   ]
  },
  {
   "cell_type": "code",
   "execution_count": 23,
   "metadata": {},
   "outputs": [
    {
     "name": "stdout",
     "output_type": "stream",
     "text": [
      "[[-1.34243288  0.83281417 -1.35528737 -1.42852127]]\n",
      "Predicted: [[9.9913305e-01 8.6673285e-04 2.2155942e-07]]\n",
      "Species: 0\n"
     ]
    }
   ],
   "source": [
    "#Test prediction- Apply the model\n",
    "x151=[4.8,3.4,1.6,0.2]#sertosa\n",
    "x151=scaler.transform([x151])\n",
    "print(x151)\n",
    "y_pred=model.predict([x151])\n",
    "print(f'Predicted: {y_pred}\\nSpecies: {np.argmax(y_pred)}')#argmax returns the indices of the maximum values along an axis.\n"
   ]
  },
  {
   "cell_type": "code",
   "execution_count": 24,
   "metadata": {},
   "outputs": [
    {
     "name": "stdout",
     "output_type": "stream",
     "text": [
      "[[-0.60121227 -0.06636823  0.3549696   0.32975786]]\n",
      "Predicted: [[2.7940940e-05 9.9581903e-01 4.1531017e-03]]\n",
      "Species: 1\n"
     ]
    }
   ],
   "source": [
    "#Test prediction- Apply the model\n",
    "x152=[5.4,3,4.5,1.5] #versicolor\n",
    "x152=scaler.transform([x152])\n",
    "print(x152)\n",
    "y_pred=model.predict([x152])\n",
    "print(f'Predicted: {y_pred}\\nSpecies: {np.argmax(y_pred)}')#argmax returns the indices of the maximum values along an axis.\n"
   ]
  },
  {
   "cell_type": "code",
   "execution_count": 25,
   "metadata": {},
   "outputs": [
    {
     "name": "stdout",
     "output_type": "stream",
     "text": [
      "Model: \"sequential_1\"\n",
      "_________________________________________________________________\n",
      " Layer (type)                Output Shape              Param #   \n",
      "=================================================================\n",
      " dense_4 (Dense)             (None, 20)                100       \n",
      "                                                                 \n",
      " dense_5 (Dense)             (None, 16)                336       \n",
      "                                                                 \n",
      " dense_6 (Dense)             (None, 8)                 136       \n",
      "                                                                 \n",
      " dense_7 (Dense)             (None, 3)                 27        \n",
      "                                                                 \n",
      "=================================================================\n",
      "Total params: 599\n",
      "Trainable params: 599\n",
      "Non-trainable params: 0\n",
      "_________________________________________________________________\n"
     ]
    }
   ],
   "source": [
    "model.summary()"
   ]
  },
  {
   "cell_type": "markdown",
   "metadata": {},
   "source": [
    "# Build CNN for image classification. Have convolution and pooling layers. Convolution layers generate feature maps, pooling layers collect important features."
   ]
  },
  {
   "cell_type": "code",
   "execution_count": null,
   "metadata": {},
   "outputs": [],
   "source": [
    "#MNIST dataset-link for more info on the dataset: http://yann.lecun.com/exdb/mnist/\n",
    "#Cotains images of handwritten digits in grayscale. A grayscale image has just one channel.\n",
    "#60000 training instances; 10000 test instances.\n",
    "#The instances are 28*28 images\n",
    "\n",
    "#CNN: convolution layer takes a filter and multiplies the input matrix (element-wise) \n",
    "#with the filter, thereby generating new features. It uses dot-matrix multiplication."
   ]
  },
  {
   "cell_type": "code",
   "execution_count": 26,
   "metadata": {},
   "outputs": [
    {
     "data": {
      "text/plain": [
       "60000"
      ]
     },
     "execution_count": 26,
     "metadata": {},
     "output_type": "execute_result"
    }
   ],
   "source": [
    "#load MNIST dataset-load_data() returns a 2-tuple\n",
    "\n",
    "(X_mn_train,y_mn_train), (X_mn_test,y_mn_test)=mnist.load_data()\n",
    "len(X_mn_train)"
   ]
  },
  {
   "cell_type": "code",
   "execution_count": 27,
   "metadata": {},
   "outputs": [
    {
     "data": {
      "text/plain": [
       "(60000, 28, 28)"
      ]
     },
     "execution_count": 27,
     "metadata": {},
     "output_type": "execute_result"
    }
   ],
   "source": [
    "X_mn_train.shape #notice the channel is missing in the shape-----for RGB images,channel is 3; 1 for grayscale images"
   ]
  },
  {
   "cell_type": "code",
   "execution_count": 28,
   "metadata": {},
   "outputs": [
    {
     "data": {
      "image/png": "[encoded data removed]",
      "text/plain": [
       "<Figure size 432x288 with 24 Axes>"
      ]
     },
     "metadata": {
      "needs_background": "light"
     },
     "output_type": "display_data"
    }
   ],
   "source": [
    "#Sample the im,ages and display them\n",
    "for im_index in range(24):\n",
    "    plt.subplot(3,8,im_index+1)\n",
    "    plt.imshow(X_mn_train[im_index],cmap='hot')#cmap='gray' is a good alternative\n",
    "    \n",
    "plt.show()"
   ]
  },
  {
   "cell_type": "code",
   "execution_count": 29,
   "metadata": {},
   "outputs": [
    {
     "data": {
      "text/plain": [
       "array([[[0, 0, 0, ..., 0, 0, 0],\n",
       "        [0, 0, 0, ..., 0, 0, 0],\n",
       "        [0, 0, 0, ..., 0, 0, 0],\n",
       "        ...,\n",
       "        [0, 0, 0, ..., 0, 0, 0],\n",
       "        [0, 0, 0, ..., 0, 0, 0],\n",
       "        [0, 0, 0, ..., 0, 0, 0]],\n",
       "\n",
       "       [[0, 0, 0, ..., 0, 0, 0],\n",
       "        [0, 0, 0, ..., 0, 0, 0],\n",
       "        [0, 0, 0, ..., 0, 0, 0],\n",
       "        ...,\n",
       "        [0, 0, 0, ..., 0, 0, 0],\n",
       "        [0, 0, 0, ..., 0, 0, 0],\n",
       "        [0, 0, 0, ..., 0, 0, 0]],\n",
       "\n",
       "       [[0, 0, 0, ..., 0, 0, 0],\n",
       "        [0, 0, 0, ..., 0, 0, 0],\n",
       "        [0, 0, 0, ..., 0, 0, 0],\n",
       "        ...,\n",
       "        [0, 0, 0, ..., 0, 0, 0],\n",
       "        [0, 0, 0, ..., 0, 0, 0],\n",
       "        [0, 0, 0, ..., 0, 0, 0]],\n",
       "\n",
       "       ...,\n",
       "\n",
       "       [[0, 0, 0, ..., 0, 0, 0],\n",
       "        [0, 0, 0, ..., 0, 0, 0],\n",
       "        [0, 0, 0, ..., 0, 0, 0],\n",
       "        ...,\n",
       "        [0, 0, 0, ..., 0, 0, 0],\n",
       "        [0, 0, 0, ..., 0, 0, 0],\n",
       "        [0, 0, 0, ..., 0, 0, 0]],\n",
       "\n",
       "       [[0, 0, 0, ..., 0, 0, 0],\n",
       "        [0, 0, 0, ..., 0, 0, 0],\n",
       "        [0, 0, 0, ..., 0, 0, 0],\n",
       "        ...,\n",
       "        [0, 0, 0, ..., 0, 0, 0],\n",
       "        [0, 0, 0, ..., 0, 0, 0],\n",
       "        [0, 0, 0, ..., 0, 0, 0]],\n",
       "\n",
       "       [[0, 0, 0, ..., 0, 0, 0],\n",
       "        [0, 0, 0, ..., 0, 0, 0],\n",
       "        [0, 0, 0, ..., 0, 0, 0],\n",
       "        ...,\n",
       "        [0, 0, 0, ..., 0, 0, 0],\n",
       "        [0, 0, 0, ..., 0, 0, 0],\n",
       "        [0, 0, 0, ..., 0, 0, 0]]], dtype=uint8)"
      ]
     },
     "execution_count": 29,
     "metadata": {},
     "output_type": "execute_result"
    }
   ],
   "source": [
    "X_mn_train.reshape((60000,28,28))"
   ]
  },
  {
   "cell_type": "code",
   "execution_count": 30,
   "metadata": {},
   "outputs": [
    {
     "data": {
      "text/plain": [
       "array([[  0,   0,   0,   0,   0,   0,   0,   0,   0,   0,   0,   0,   0,\n",
       "          0,   0,   0,   0,   0,   0,   0,   0,   0,   0,   0,   0,   0,\n",
       "          0,   0],\n",
       "       [  0,   0,   0,   0,   0,   0,   0,   0,   0,   0,   0,   0,   0,\n",
       "          0,   0,   0,   0,   0,   0,   0,   0,   0,   0,   0,   0,   0,\n",
       "          0,   0],\n",
       "       [  0,   0,   0,   0,   0,   0,   0,   0,   0,   0,   0,   0,   0,\n",
       "          0,   0,   0,   0,   0,   0,   0,   0,   0,   0,   0,   0,   0,\n",
       "          0,   0],\n",
       "       [  0,   0,   0,   0,   0,   0,   0,   0,   0,   0,   0,   0,   0,\n",
       "          0,   0,   0,   0,   0,   0,   0,   0,   0,   0,   0,   0,   0,\n",
       "          0,   0],\n",
       "       [  0,   0,   0,   0,   0,   0,   0,   0,   0,   0,   0,   0,   0,\n",
       "          0,   0,   0,   0,   0,   0,   0,   0,   0,   0,   0,   0,   0,\n",
       "          0,   0],\n",
       "       [  0,   0,   0,   0,   0,   0,   0,   0,   0,   0,   0,   0,   0,\n",
       "          0,   0,   0, 138, 238, 217,  68,   0,   0,   0,   0,   0,   0,\n",
       "          0,   0],\n",
       "       [  0,   0,   0,   0,   0,   0,   0,   0,   0,   0,   0,   0,   0,\n",
       "          0,   0, 150, 254, 254, 254, 232,   0,   0,   0,   0,   0,   0,\n",
       "          0,   0],\n",
       "       [  0,   0,   0,   0,   0,   0,   0,   0,   0,   0,   0,   0,   0,\n",
       "          0,  63, 224, 254, 145, 254, 240,  22,   0,   0,   0,   0,   0,\n",
       "          0,   0],\n",
       "       [  0,   0,   0,   0,   0,   0,   0,   0,   0,   0,   0,   0,  15,\n",
       "        160, 253, 254, 254, 187, 254, 180,   0,   0,   0,   0,   0,   0,\n",
       "          0,   0],\n",
       "       [  0,   0,   0,   0,   0,   0,   0,   0,   0,   0,   0,   0, 184,\n",
       "        254, 184, 207, 254, 254, 248,  51,   0,   0,   0,   0,   0,   0,\n",
       "          0,   0],\n",
       "       [  0,   0,   0,   0,   0,   0,   0,   0,   0,   0,   0, 123, 252,\n",
       "        206,  17,  47, 254, 254, 128,   0,   0,   0,   0,   0,   0,   0,\n",
       "          0,   0],\n",
       "       [  0,   0,   0,   0,   0,   0,   0,   0,   0,   0,   0, 229, 254,\n",
       "         43,   0, 165, 254, 159,   6,   0,   0,   0,   0,   0,   0,   0,\n",
       "          0,   0],\n",
       "       [  0,   0,   0,   0,   0,   0,   0,   0,   0,   0,   0, 229, 237,\n",
       "         23,  42, 235, 218,  24,   0,   0,   0,   0,   0,   0,   0,   0,\n",
       "          0,   0],\n",
       "       [  0,   0,   0,   0,   0,   0,   0,   0,   0,   0,   0, 213, 254,\n",
       "        105, 212, 247,  50,   0,   0,   0,   0,   0,   0,   0,   0,   0,\n",
       "          0,   0],\n",
       "       [  0,   0,   0,   0,   0,   0,   0,   0,   0,   0,   0,  60, 249,\n",
       "        254, 254, 128,   0,   0,   0,   0,   0,   0,   0,   0,   0,   0,\n",
       "          0,   0],\n",
       "       [  0,   0,   0,   0,   0,   0,   0,   0,   0,   0,   0,   0, 139,\n",
       "        254, 254, 163,   8,   0,   0,   0,   0,   0,   0,   0,   0,   0,\n",
       "          0,   0],\n",
       "       [  0,   0,   0,   0,   0,   0,   0,   0,   0,   0,   0,   0, 164,\n",
       "        254, 243, 254,  89,   0,   0,   0,   0,   0,   0,   0,   0,   0,\n",
       "          0,   0],\n",
       "       [  0,   0,   0,   0,   0,   0,   0,   0,   0,   0,   0,  56, 249,\n",
       "        177,  49, 235, 202,   0,   0,   0,   0,   0,   0,   0,   0,   0,\n",
       "          0,   0],\n",
       "       [  0,   0,   0,   0,   0,   0,   0,   0,   0,   0,   7, 213, 249,\n",
       "         50,   0, 212, 247,  41,   0,   0,   0,   0,   0,   0,   0,   0,\n",
       "          0,   0],\n",
       "       [  0,   0,   0,   0,   0,   0,   0,   0,   0,   0,  69, 254, 158,\n",
       "          0,   0, 212, 254,  52,   0,   0,   0,   0,   0,   0,   0,   0,\n",
       "          0,   0],\n",
       "       [  0,   0,   0,   0,   0,   0,   0,   0,   0,   0, 212, 254,  30,\n",
       "          0,   0, 212, 254,  52,   0,   0,   0,   0,   0,   0,   0,   0,\n",
       "          0,   0],\n",
       "       [  0,   0,   0,   0,   0,   0,   0,   0,   0,   4, 235, 213,   8,\n",
       "          0,  37, 243, 241,  32,   0,   0,   0,   0,   0,   0,   0,   0,\n",
       "          0,   0],\n",
       "       [  0,   0,   0,   0,   0,   0,   0,   0,   0,  19, 240, 200,   4,\n",
       "          5, 193, 254, 126,   0,   0,   0,   0,   0,   0,   0,   0,   0,\n",
       "          0,   0],\n",
       "       [  0,   0,   0,   0,   0,   0,   0,   0,   0,   0, 232, 254, 212,\n",
       "        218, 254, 195,  15,   0,   0,   0,   0,   0,   0,   0,   0,   0,\n",
       "          0,   0],\n",
       "       [  0,   0,   0,   0,   0,   0,   0,   0,   0,   0,  68, 216, 254,\n",
       "        254, 166,  14,   0,   0,   0,   0,   0,   0,   0,   0,   0,   0,\n",
       "          0,   0],\n",
       "       [  0,   0,   0,   0,   0,   0,   0,   0,   0,   0,   0,   0,   0,\n",
       "          0,   0,   0,   0,   0,   0,   0,   0,   0,   0,   0,   0,   0,\n",
       "          0,   0],\n",
       "       [  0,   0,   0,   0,   0,   0,   0,   0,   0,   0,   0,   0,   0,\n",
       "          0,   0,   0,   0,   0,   0,   0,   0,   0,   0,   0,   0,   0,\n",
       "          0,   0],\n",
       "       [  0,   0,   0,   0,   0,   0,   0,   0,   0,   0,   0,   0,   0,\n",
       "          0,   0,   0,   0,   0,   0,   0,   0,   0,   0,   0,   0,   0,\n",
       "          0,   0]], dtype=uint8)"
      ]
     },
     "execution_count": 30,
     "metadata": {},
     "output_type": "execute_result"
    }
   ],
   "source": [
    "X_mn_train[300]#see 28*28 image with pixesl ranging between 0-255"
   ]
  },
  {
   "cell_type": "code",
   "execution_count": 31,
   "metadata": {},
   "outputs": [
    {
     "data": {
      "image/png": "[encoded data removed]",
      "text/plain": [
       "<Figure size 432x288 with 1 Axes>"
      ]
     },
     "metadata": {
      "needs_background": "light"
     },
     "output_type": "display_data"
    }
   ],
   "source": [
    "#This is the image plot\n",
    "plt.imshow(X_mn_train[300],cmap='gray') \n",
    "plt.show()"
   ]
  },
  {
   "cell_type": "code",
   "execution_count": 32,
   "metadata": {},
   "outputs": [
    {
     "data": {
      "text/plain": [
       "238"
      ]
     },
     "execution_count": 32,
     "metadata": {},
     "output_type": "execute_result"
    }
   ],
   "source": [
    "X_mn_train[300][5][17]#what is in row 6, column 18--the value returned is actually channel information"
   ]
  },
  {
   "cell_type": "code",
   "execution_count": 33,
   "metadata": {},
   "outputs": [
    {
     "data": {
      "text/plain": [
       "0"
      ]
     },
     "execution_count": 33,
     "metadata": {},
     "output_type": "execute_result"
    }
   ],
   "source": [
    "X_mn_train[300][5][5]#what is in row 6, column 6"
   ]
  },
  {
   "cell_type": "code",
   "execution_count": 34,
   "metadata": {},
   "outputs": [],
   "source": [
    "#We modify dimension to include channel. \n",
    "#CNN expects images to be of the form (rows, columns, channels)\n",
    "#reshape the data to have a single channel\n",
    "X_mn_train=X_mn_train.reshape((X_mn_train.shape[0], #image instance---60000\n",
    "                               X_mn_train.shape[1], #rows-28\n",
    "                               X_mn_train.shape[2], #columns-28\n",
    "                               1 #channel--grayscale\n",
    "                              ))\n",
    "X_mn_test=X_mn_test.reshape((X_mn_test.shape[0],#image instance---10000\n",
    "                             X_mn_test.shape[1],#rows-28\n",
    "                             X_mn_test.shape[2],#columns-28\n",
    "                             1 #channel--grayscale\n",
    "                            ))"
   ]
  },
  {
   "cell_type": "code",
   "execution_count": 35,
   "metadata": {},
   "outputs": [
    {
     "data": {
      "text/plain": [
       "(60000, 28, 28, 1)"
      ]
     },
     "execution_count": 35,
     "metadata": {},
     "output_type": "execute_result"
    }
   ],
   "source": [
    "X_mn_train.shape"
   ]
  },
  {
   "cell_type": "code",
   "execution_count": 36,
   "metadata": {},
   "outputs": [
    {
     "data": {
      "text/plain": [
       "(10000, 28, 28, 1)"
      ]
     },
     "execution_count": 36,
     "metadata": {},
     "output_type": "execute_result"
    }
   ],
   "source": [
    "X_mn_test.shape"
   ]
  },
  {
   "cell_type": "code",
   "execution_count": 37,
   "metadata": {},
   "outputs": [
    {
     "data": {
      "text/plain": [
       "(28, 28, 1)"
      ]
     },
     "execution_count": 37,
     "metadata": {},
     "output_type": "execute_result"
    }
   ],
   "source": [
    "#Image input shape. This is the shape we will offer as input\n",
    "in_shape=X_mn_train.shape[1:] #exclude the first index which is for image instance.\n",
    "in_shape"
   ]
  },
  {
   "cell_type": "code",
   "execution_count": 38,
   "metadata": {},
   "outputs": [
    {
     "data": {
      "text/plain": [
       "array([0, 1, 2, 3, 4, 5, 6, 7, 8, 9], dtype=uint8)"
      ]
     },
     "execution_count": 38,
     "metadata": {},
     "output_type": "execute_result"
    }
   ],
   "source": [
    "#Examine the classes in the target attribute\n",
    "np.unique(y_mn_train)"
   ]
  },
  {
   "cell_type": "code",
   "execution_count": 39,
   "metadata": {},
   "outputs": [
    {
     "data": {
      "text/plain": [
       "10"
      ]
     },
     "execution_count": 39,
     "metadata": {},
     "output_type": "execute_result"
    }
   ],
   "source": [
    "#Determine the number of classes that the image can be classifed into\n",
    "#---we expect 10:(0,1,2,3,4,5,6,7,8,9)---as above\n",
    "n_classes = len(np.unique(y_mn_train))\n",
    "n_classes"
   ]
  },
  {
   "cell_type": "code",
   "execution_count": 40,
   "metadata": {},
   "outputs": [],
   "source": [
    "#Scale the pixels from range 0-255 to 0-1. This is good for models that \n",
    "#use linear combinations of inputs and need to learn weights\n",
    "#We first make each instance a float before computation\n",
    "X_mn_train=X_mn_train.astype('float32')/255.0\n",
    "X_mn_test=X_mn_test.astype('float32')/255.0"
   ]
  },
  {
   "cell_type": "code",
   "execution_count": 41,
   "metadata": {},
   "outputs": [],
   "source": [
    "#Create function to return a CNN model.\n",
    "#The function creates a Sequential model, and adds layers to it. \n",
    "#The model is then compiled and returned.\n",
    "def createCNNModel():\n",
    "    model=Sequential()\n",
    "    model.add(Conv2D(filters=32,kernel_size=(6,6),activation='relu', kernel_initializer='he_uniform', input_shape=in_shape))\n",
    "    model.add(MaxPool2D(pool_size=(2,2), strides=1))\n",
    "    model.add(Flatten()) #will modify input_shape from (28,28,1) to (28*28*1,), i.e. (784,)\n",
    "    model.add(Dense(units=100,activation='relu', kernel_initializer='he_uniform'))\n",
    "    model.add(Dropout(rate=0.3))\n",
    "    model.add(Dense(units=n_classes,activation='softmax'))\n",
    "    #Compile model--sets parameters like optimizer, loss function, metrics, etc.\n",
    "    model.compile(optimizer='adam', loss='sparse_categorical_crossentropy', metrics=['accuracy'])\n",
    "    return model"
   ]
  },
  {
   "cell_type": "code",
   "execution_count": 42,
   "metadata": {},
   "outputs": [],
   "source": [
    "#set up the CNN model\n",
    "modelCNN=createCNNModel()"
   ]
  },
  {
   "cell_type": "code",
   "execution_count": 43,
   "metadata": {},
   "outputs": [
    {
     "name": "stdout",
     "output_type": "stream",
     "text": [
      "Epoch 1/3\n",
      "469/469 [==============================] - 55s 115ms/step - loss: 0.3651 - accuracy: 0.8993\n",
      "Epoch 2/3\n",
      "469/469 [==============================] - 48s 101ms/step - loss: 0.1156 - accuracy: 0.9656\n",
      "Epoch 3/3\n",
      "469/469 [==============================] - 48s 102ms/step - loss: 0.0840 - accuracy: 0.9755\n"
     ]
    },
    {
     "data": {
      "text/plain": [
       "<keras.callbacks.History at 0x1ef7326e520>"
      ]
     },
     "execution_count": 43,
     "metadata": {},
     "output_type": "execute_result"
    }
   ],
   "source": [
    "#Fit the model\n",
    "modelCNN.fit(X_mn_train, y_mn_train, epochs=3, batch_size=128, verbose=1)\n"
   ]
  },
  {
   "cell_type": "code",
   "execution_count": 44,
   "metadata": {},
   "outputs": [
    {
     "name": "stdout",
     "output_type": "stream",
     "text": [
      "Accuracy:0.985\n"
     ]
    }
   ],
   "source": [
    "#Evaluate \n",
    "loss,acc=modelCNN.evaluate(X_mn_test,y_mn_test, verbose=0)\n",
    "print(f\"Accuracy:{acc:.3f}\")"
   ]
  },
  {
   "cell_type": "code",
   "execution_count": 45,
   "metadata": {},
   "outputs": [
    {
     "name": "stdout",
     "output_type": "stream",
     "text": [
      "\n",
      " [[1.3435691e-08 9.9999213e-01 3.4605102e-07 3.7555671e-07 2.0045104e-06\n",
      "  1.9342791e-07 8.9429670e-07 5.4990988e-07 3.4446612e-06 5.9736422e-08]] \n",
      "\n",
      "\n",
      "Predicted: digit=1\n"
     ]
    }
   ],
   "source": [
    "#Predict unseen instance\n",
    "unseen = X_mn_train[200]\n",
    "y_pred = modelCNN.predict(np.asarray([unseen]))\n",
    "print('\\n',y_pred,'\\n')\n",
    "print(f'\\nPredicted: digit={np.argmax(y_pred)}')"
   ]
  },
  {
   "cell_type": "code",
   "execution_count": 46,
   "metadata": {},
   "outputs": [
    {
     "data": {
      "image/png": "[encoded data removed]",
      "text/plain": [
       "<Figure size 432x288 with 1 Axes>"
      ]
     },
     "metadata": {
      "needs_background": "light"
     },
     "output_type": "display_data"
    }
   ],
   "source": [
    "#Check it out with a plot\n",
    "plt.imshow(unseen,cmap='hot')\n",
    "plt.show()"
   ]
  },
  {
   "cell_type": "code",
   "execution_count": 47,
   "metadata": {},
   "outputs": [
    {
     "name": "stdout",
     "output_type": "stream",
     "text": [
      "\n",
      " [[1.2107471e-09 9.2865146e-11 1.2369558e-09 7.8886991e-08 1.8098244e-10\n",
      "  1.2837985e-10 1.5599056e-12 9.9999988e-01 1.4966178e-11 5.1198487e-08]] \n",
      "\n",
      "\n",
      "Predicted: digit=7\n"
     ]
    }
   ],
   "source": [
    "#Predict unseen instance\n",
    "unseen2 = X_mn_test[17]\n",
    "y_pred = modelCNN.predict(np.asarray([unseen2]))\n",
    "print('\\n',y_pred,'\\n')\n",
    "print(f'\\nPredicted: digit={np.argmax(y_pred)}')"
   ]
  },
  {
   "cell_type": "code",
   "execution_count": 48,
   "metadata": {},
   "outputs": [
    {
     "data": {
      "image/png": "[encoded data removed]",
      "text/plain": [
       "<Figure size 432x288 with 1 Axes>"
      ]
     },
     "metadata": {
      "needs_background": "light"
     },
     "output_type": "display_data"
    }
   ],
   "source": [
    "#Check it out with a plot\n",
    "plt.imshow(unseen2,cmap='hot')  \n",
    "plt.show()"
   ]
  },
  {
   "cell_type": "code",
   "execution_count": 49,
   "metadata": {},
   "outputs": [
    {
     "name": "stdout",
     "output_type": "stream",
     "text": [
      "Model: \"sequential_2\"\n",
      "_________________________________________________________________\n",
      " Layer (type)                Output Shape              Param #   \n",
      "=================================================================\n",
      " conv2d (Conv2D)             (None, 23, 23, 32)        1184      \n",
      "                                                                 \n",
      " max_pooling2d (MaxPooling2D  (None, 22, 22, 32)       0         \n",
      " )                                                               \n",
      "                                                                 \n",
      " flatten (Flatten)           (None, 15488)             0         \n",
      "                                                                 \n",
      " dense_8 (Dense)             (None, 100)               1548900   \n",
      "                                                                 \n",
      " dropout (Dropout)           (None, 100)               0         \n",
      "                                                                 \n",
      " dense_9 (Dense)             (None, 10)                1010      \n",
      "                                                                 \n",
      "=================================================================\n",
      "Total params: 1,551,094\n",
      "Trainable params: 1,551,094\n",
      "Non-trainable params: 0\n",
      "_________________________________________________________________\n"
     ]
    }
   ],
   "source": [
    "modelCNN.summary()"
   ]
  },
  {
   "cell_type": "code",
   "execution_count": null,
   "metadata": {},
   "outputs": [],
   "source": []
  }
 ],
 "metadata": {
  "kernelspec": {
   "display_name": "Python 3",
   "language": "python",
   "name": "python3"
  },
  "language_info": {
   "codemirror_mode": {
    "name": "ipython",
    "version": 3
   },
   "file_extension": ".py",
   "mimetype": "text/x-python",
   "name": "python",
   "nbconvert_exporter": "python",
   "pygments_lexer": "ipython3",
   "version": "3.8.8"
  }
 },
 "nbformat": 4,
 "nbformat_minor": 4
}
